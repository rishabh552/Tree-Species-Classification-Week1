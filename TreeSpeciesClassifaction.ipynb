{
  "nbformat": 4,
  "nbformat_minor": 0,
  "metadata": {
    "colab": {
      "provenance": [],
      "authorship_tag": "ABX9TyPEkxkuFB5lBUwheMgnHD1e",
      "include_colab_link": true
    },
    "kernelspec": {
      "name": "python3",
      "display_name": "Python 3"
    },
    "language_info": {
      "name": "python"
    }
  },
  "cells": [
    {
      "cell_type": "markdown",
      "metadata": {
        "id": "view-in-github",
        "colab_type": "text"
      },
      "source": [
        "<a href=\"https://colab.research.google.com/github/rishabh552/Tree-Species-Classification-Week1/blob/main/TreeSpeciesClassifaction.ipynb\" target=\"_parent\"><img src=\"https://colab.research.google.com/assets/colab-badge.svg\" alt=\"Open In Colab\"/></a>"
      ]
    },
    {
      "cell_type": "markdown",
      "metadata": {
        "id": "43de90ee"
      },
      "source": []
    },
    {
      "cell_type": "code",
      "metadata": {
        "id": "895e491b",
        "colab": {
          "base_uri": "https://localhost:8080/"
        },
        "outputId": "ab91f26c-a2ce-422f-bc01-a29cc9dcc6a8"
      },
      "source": [
        "from google.colab import drive\n",
        "drive.mount('/content/drive')\n",
        "import zipfile\n",
        "import os\n",
        "\n",
        "zip_file_path = \"/content/drive/MyDrive/TreeSpecies.zip\"\n",
        "extraction_path = \"/tmp/TreeSpecies_extracted\"\n",
        "\n",
        "os.makedirs(extraction_path, exist_ok=True)\n",
        "\n",
        "with zipfile.ZipFile(zip_file_path, 'r') as zip_ref:\n",
        "    zip_ref.extractall(extraction_path)\n",
        "\n",
        "import glob\n",
        "image_extensions = ['.jpg', '.jpeg', '.png', '.bmp', '.gif', '.tiff']\n",
        "image_files = [f for f in glob.glob(extraction_path + '/**/*', recursive=True)\n",
        "               if os.path.splitext(f)[1].lower() in image_extensions]\n",
        "\n",
        "print(f\"\\nFound {len(image_files)} image files.\")\n",
        "\n"
      ],
      "execution_count": null,
      "outputs": [
        {
          "output_type": "stream",
          "name": "stdout",
          "text": [
            "Drive already mounted at /content/drive; to attempt to forcibly remount, call drive.mount(\"/content/drive\", force_remount=True).\n",
            "\n",
            "Found 1600 image files.\n"
          ]
        }
      ]
    }
  ]
}